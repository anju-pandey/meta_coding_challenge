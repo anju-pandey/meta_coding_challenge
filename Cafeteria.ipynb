{
  "nbformat": 4,
  "nbformat_minor": 0,
  "metadata": {
    "colab": {
      "provenance": []
    },
    "kernelspec": {
      "name": "python3",
      "display_name": "Python 3"
    },
    "language_info": {
      "name": "python"
    }
  },
  "cells": [
    {
      "cell_type": "markdown",
      "source": [
        "**Cafeteria**\n",
        "\n",
        "A cafeteria table consists of a row of  N seats, numbered from 1 to N from left to right. Social distancing guidelines require that every diner be seated such that K seats to their left and K seats to their right (or all the remaining seats to that side if there are fewer than K) remain empty.\n",
        "\n",
        "There are currently M diners seated at the table, the ith of whom is in seat Si. No two diners are sitting in the same seat, and the social distancing guidelines are satisfied.\n",
        "\n",
        "Determine the maximum number of additional diners who can potentially sit at the table without social distancing guidelines being violated for any new or existing diners, assuming that the existing diners cannot move and that the additional diners will cooperate to maximize how many of them can sit down.\n",
        "\n",
        "Please take care to write a solution which runs within the time limit.\n",
        "\n",
        "**Constraints**\n",
        "\n",
        "1≤N≤1015\n",
        "\n",
        "1≤K≤N \n",
        "\n",
        "1≤M≤500,000\n",
        "\n",
        "M≤N \n",
        "\n",
        "1≤Si≤N\n",
        "\n",
        "**Sample test case #1**\n",
        "\n",
        "N = 10\n",
        "\n",
        "K = 1\n",
        "\n",
        "M = 2\n",
        "\n",
        "S = [2, 6]\n",
        "\n",
        "Expected Return Value = 3\n",
        "\n",
        "**Sample test case #2**\n",
        "\n",
        "N = 15\n",
        "\n",
        "K = 2\n",
        "\n",
        "M = 3\n",
        "\n",
        "S = [11, 6, 14]\n",
        "\n",
        "Expected Return Value = 1\n",
        "\n",
        "**Sample Explanation**\n",
        "\n",
        "In the first case, the cafeteria table has N=10 seats, with two diners currently at seats 2 and 6 respectively. The table initially looks as follows, with brackets covering the K=1 seat to the left and right of each existing diner that may not be taken.\n",
        "\n",
        "  1 **2** 3 4 5 **6** 7 8 9 10\n",
        "\n",
        "     [   ]   [   ]\n",
        "\n",
        "Three additional diners may sit at seats 4, 8, and 10 without violating the social distancing guidelines.\n",
        "\n",
        "In the second case, only 1 additional diner is able to join the table, by sitting in any of the first 3 seats\n"
      ],
      "metadata": {
        "id": "Vatga8hUMsKF"
      }
    },
    {
      "cell_type": "code",
      "execution_count": null,
      "metadata": {
        "id": "KIj83opj6V3Q"
      },
      "outputs": [],
      "source": [
        "from typing import List\n",
        "import numpy as np\n",
        "# Write any import statements here\n",
        "\n",
        "def getMaxAdditionalDinersCount(N: int, K: int, M: int, S: List[int]) -> int:\n",
        "  # Write your code here\n",
        "  \n",
        "  S=np.sort(np.array(S))\n",
        "  \n",
        "  #declare variables\n",
        "  extra_dinners=0\n",
        "  left_dinners=0\n",
        "  right_dinners=0\n",
        "  middle_dinners=0\n",
        "  \n",
        "  #find seats on the left side\n",
        "  left_side_array=range(S[0],0,-(K+1))\n",
        "  left_dinners=len(left_side_array)-1\n",
        "  \n",
        "  #find seats on the right side\n",
        "  right_side_array=range(max(S),N+1,K+1)\n",
        "  right_dinners=len(right_side_array)-1  \n",
        "  \n",
        "  #find seats in the middle\n",
        "  middle_array=np.array(S)\n",
        "  a=(((np.diff(middle_array))//(K+1))-1)\n",
        "  middle_dinners=np.sum(np.where(a>=0,a,0))\n",
        "    \n",
        "  #return total available seats\n",
        "  extra_dinners=left_dinners+middle_dinners+right_dinners\n",
        "  return extra_dinners\n",
        "      \n",
        "       "
      ]
    }
  ]
}