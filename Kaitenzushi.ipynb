{
  "nbformat": 4,
  "nbformat_minor": 0,
  "metadata": {
    "colab": {
      "provenance": []
    },
    "kernelspec": {
      "name": "python3",
      "display_name": "Python 3"
    },
    "language_info": {
      "name": "python"
    }
  },
  "cells": [
    {
      "cell_type": "markdown",
      "source": [
        "\n",
        "**Kaitenzushi**\n",
        "\n",
        "There are N dishes in a row on a kaiten belt, with the ith dish being of type Di. Some dishes may be of the same type as one another.\n",
        "\n",
        "You're very hungry, but you'd also like to keep things interesting. The N dishes will arrive in front of you, one after another in order, and for each one you'll eat it as long as it isn't the same type as any of the previous K dishes you've eaten. You eat very fast, so you can consume a dish before the next one gets to you. Any dishes you choose not to eat as they pass will be eaten by others.\n",
        "\n",
        "Determine how many dishes you'll end up eating.\n",
        "Please take care to write a solution which runs within the time limit.\n",
        "\n",
        "**Constraints**\n",
        "\n",
        "1≤500,0001≤N≤500,000\n",
        "\n",
        "1≤K≤N\n",
        "\n",
        "1≤Di≤1,000,000\n",
        "\n",
        "**Sample test case #1**\n",
        "\n",
        "N = 6\n",
        "\n",
        "D = [1, 2, 3, 3, 2, 1]\n",
        "\n",
        "K = 1\n",
        "\n",
        "Expected Return Value = 5\n",
        "\n",
        "**Sample test case #2**\n",
        "\n",
        "N = 6\n",
        "\n",
        "D = [1, 2, 3, 3, 2, 1]\n",
        "\n",
        "K = 2\n",
        "\n",
        "Expected Return Value = 4\n",
        "\n",
        "**Sample test case #3**\n",
        "\n",
        "N = 7\n",
        "\n",
        "D = [1, 2, 1, 2, 1, 2, 1]\n",
        "\n",
        "K = 2\n",
        "\n",
        "Expected Return Value = 2\n",
        "\n",
        "**Sample Explanation**\n",
        "\n",
        "In the first case, the dishes have types of [1,2,3,3,2,1] so you'll eat the first 3 dishes, skip the next one as it's another type-3 dish, and then eat the last 2.\n",
        "\n",
        "In the second case, you won't eat a dish if it has the same type as either of the previous 2 dishes you've eaten. After eating the first, second, and third dishes, you'll skip the fourth and fifth dishes as they're the same type as the last 2 dishes that you've eaten. You'll then eat the last dish, consuming 4 dishes total.\n",
        "\n",
        "In the third case, once you eat the first two dishes you won't eat any of the remaining dishes.\n",
        "\n"
      ],
      "metadata": {
        "id": "FpJkwSrhf-wu"
      }
    },
    {
      "cell_type": "code",
      "execution_count": null,
      "metadata": {
        "id": "5Q22sZHge8SS"
      },
      "outputs": [],
      "source": [
        "from typing import List\n",
        "# Write any import statements here\n",
        "from collections import OrderedDict\n",
        "\n",
        "def getMaximumEatenDishCount(N: int, D: List[int], K: int) -> int:\n",
        "  # Write your code here\n",
        "  l_ate_dish=OrderedDict()\n",
        "  total_eaten_dish=0\n",
        "\n",
        "  #create K number of random values\n",
        "  for i in range(0,K):\n",
        "      l_ate_dish[str(i)+\"A\"]=str(i)+\"A\"\n",
        "\n",
        "  #check if dish was eaten before and falls in K range\n",
        "  for k in range(0,N):\n",
        "      if l_ate_dish.get(D[k])==None:\n",
        "         l_ate_dish.popitem(last=False)\n",
        "         l_ate_dish[D[k]]=D[k]\n",
        "         total_eaten_dish=total_eaten_dish+1\n",
        "\n",
        "  # return total number of eaten dishes\n",
        "  return total_eaten_dish\n"
      ]
    }
  ]
}