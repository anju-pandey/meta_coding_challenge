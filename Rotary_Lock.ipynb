{
  "nbformat": 4,
  "nbformat_minor": 0,
  "metadata": {
    "colab": {
      "provenance": []
    },
    "kernelspec": {
      "name": "python3",
      "display_name": "Python 3"
    },
    "language_info": {
      "name": "python"
    }
  },
  "cells": [
    {
      "cell_type": "markdown",
      "source": [
        "\n",
        "**Rotary Lock (Chapter 1)**\n",
        "\n",
        "Level 1\n",
        "\n",
        "Time limit: 5s\n",
        "\n",
        "Note: Chapter 2 is a harder version of this puzzle.\n",
        "You're trying to open a lock. The lock comes with a wheel which has the integers from 1 to N arranged in a circle in order around it (with integers 1 and N adjacent to one another). The wheel is initially pointing at 1.\n",
        "For example, the following depicts the lock for N=10 (as is presented in the second sample case).\n",
        "\n",
        "It takes 1 second to rotate the wheel by 1 unit to an adjacent integer in either direction, and it takes no time to select an integer once the wheel is pointing at it.\n",
        "The lock will open if you enter a certain code. The code consists of a sequence of M integers, the ith of which is Ci. Determine the minimum number of seconds required to select all M of the code's integers in order.\n",
        "\n",
        "Please take care to write a solution which runs within the time limit.\n",
        "Constraints\n",
        "\n",
        "3≤N≤50,000,000\n",
        "\n",
        "1≤M≤1,000\n",
        "\n",
        "1≤Ci≤N\n",
        "\n",
        "**Sample test case #1**\n",
        "\n",
        "N = 3\n",
        "\n",
        "M = 3\n",
        "\n",
        "C = [1, 2, 3]\n",
        "\n",
        "Expected Return Value = 2\n",
        "\n",
        "**Sample test case #2**\n",
        "\n",
        "N = 10\n",
        "\n",
        "M = 4\n",
        "\n",
        "C = [9, 4, 4, 8]\n",
        "\n",
        "Expected Return Value = 11\n",
        "\n",
        "Sample Explanation\n",
        "\n",
        "In the first case, there are 3 integers on the lock, and the sequence of integers to be selected is [1,2,3]. One optimal way to enter the code is: select 1 → rotate to 2 (1 second) → select 2 → rotate to 3 (1 second) → select 3. The total time taken is 1+1=2 seconds.\n",
        "\n",
        "In the second case, the lock consists of the integers 1 through 10, and the sequence to be selected is [9,4,4,8]. One optimal way to enter the code is: rotate from 1 backwards to 9 (2 seconds) → select 9 → rotate forwards to 4 (5 seconds) → select 4 twice → rotate forwards to 8 (4 seconds) → select 8. The total time taken is 2+5+4=11 seconds.\n",
        "\n",
        "\n"
      ],
      "metadata": {
        "id": "gf2Yy3ldFEXt"
      }
    },
    {
      "cell_type": "code",
      "execution_count": null,
      "metadata": {
        "id": "GnHq58q5E9Qx"
      },
      "outputs": [],
      "source": [
        "from typing import List\n",
        "# Write any import statements here\n",
        "import numpy as np\n",
        "def getMinCodeEntryTime(N: int, M: int, C: List[int]) -> int:\n",
        "  # Write your code here\n",
        "\n",
        "  total_time=0\n",
        "  C=np.array(C)\n",
        "\n",
        "  #starting with 1\n",
        "  C=np.insert(C,0,1)\n",
        "\n",
        "  #take difference and\n",
        "  forward_moving=np.diff(C)\n",
        "  backward_moving=np.where(forward_moving>0,forward_moving-N,(np.where(forward_moving<0,forward_moving+N,forward_moving)))\n",
        "\n",
        "  #compare and choose min from backward and forward moves\n",
        "  min_time=np.minimum(np.absolute(forward_moving),np.absolute(backward_moving))\n",
        "  total_time=np.sum(min_time)\n",
        "\n",
        "  return total_time\n"
      ]
    }
  ]
}