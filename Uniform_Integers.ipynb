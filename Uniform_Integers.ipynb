{
  "nbformat": 4,
  "nbformat_minor": 0,
  "metadata": {
    "colab": {
      "provenance": []
    },
    "kernelspec": {
      "name": "python3",
      "display_name": "Python 3"
    },
    "language_info": {
      "name": "python"
    }
  },
  "cells": [
    {
      "cell_type": "markdown",
      "source": [
        "\n",
        "\n",
        "**Uniform Integers**\n",
        "\n",
        "Level 1\n",
        "\n",
        "Time limit: 5s\n",
        "\n",
        "A positive integer is considered uniform if all of its digits are equal. For example, 222 is uniform, while 223 is not.\n",
        "\n",
        "Given two positive integers A and B, determine the number of uniform integers between A and B, inclusive.\n",
        "Please take care to write a solution which runs within the time limit.\n",
        "\n",
        "**Constraints**\n",
        "\n",
        "1 ≤ A ≤ B ≤ 1012 (10 power of 12)\n",
        "\n",
        "**Sample test case #1**\n",
        "\n",
        "A = 75\n",
        "\n",
        "B = 300\n",
        "\n",
        "**Expected Return Value = 5**\n",
        "\n",
        "**Sample test case #2**\n",
        "\n",
        "A = 1\n",
        "\n",
        "B = 9\n",
        "\n",
        "**Expected Return Value = 9**\n",
        "\n",
        "**Sample test case #3**\n",
        "\n",
        "A = 999999999999\n",
        "\n",
        "B = 999999999999\n",
        "\n",
        "**Expected Return Value = 1**\n",
        "\n",
        "**Sample Explanation**\n",
        "\n",
        "In the first case, the uniform integers between 75 and 300 are 77, 88, 99, 111, and 222.\n",
        "\n",
        "In the second case, all 9 single-digit integers between 1 and 9 (inclusive) are uniform.\n",
        "\n",
        "In the third case, the single integer under consideration (999,999,999,999) is uniform.\n",
        "\n",
        "\n",
        "\n"
      ],
      "metadata": {
        "id": "8d33CqDky6bb"
      }
    },
    {
      "cell_type": "code",
      "execution_count": null,
      "metadata": {
        "id": "Lst-OdwSyyiA"
      },
      "outputs": [],
      "source": [
        "# Write any import statements here\n",
        "\n",
        "def getUniformIntegerCountInInterval(A: int, B: int) -> int:\n",
        "  # Write your code here\n",
        "\n",
        "  total_occurance=0\n",
        "\n",
        "  len_A=len(str(A))\n",
        "  first_char_of_A=str(A)[0]\n",
        "  num=first_char_of_A*len_A\n",
        "\n",
        "  # get first digit and make all digits uniform.\n",
        "  # example: A=37 ,gives 33 and after adding 11 it will become 44.\n",
        "  if int(num)<A: num=int(num)+int(\"1\"*len_A)\n",
        "\n",
        "  if int(num)>A or int(num)==A: total_occurance=1\n",
        "\n",
        "  if B>A:\n",
        "    while int(num)<=B:\n",
        "      previous_len=len(str(num))\n",
        "      num=int(num)+int(\"1\"*previous_len)\n",
        "\n",
        "      if len(str(num))>previous_len:num=num+1\n",
        "\n",
        "      if num<=B : total_occurance=total_occurance+1\n",
        "\n",
        "  return total_occurance\n"
      ]
    }
  ]
}